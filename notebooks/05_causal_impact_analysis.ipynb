{
  "nbformat": 4,
  "nbformat_minor": 0,
  "metadata": {
    "colab": {
      "provenance": []
    },
    "kernelspec": {
      "name": "python3",
      "display_name": "Python 3"
    },
    "language_info": {
      "name": "python"
    }
  },
  "cells": [
    {
      "cell_type": "code",
      "source": [
        "# Import libraries\n",
        "import pandas as pd\n",
        "from causalimpact import CausalImpact\n",
        "import matplotlib.pyplot as plt"
      ],
      "metadata": {
        "id": "ULTT9Y68vsA0"
      },
      "execution_count": null,
      "outputs": []
    },
    {
      "cell_type": "code",
      "source": [
        "# Load data\n",
        "data_path = '/content/BrentOilPrices.csv'\n",
        "df = pd.read_csv(data_path)"
      ],
      "metadata": {
        "id": "_o07i6lVyeLd"
      },
      "execution_count": null,
      "outputs": []
    },
    {
      "cell_type": "code",
      "source": [
        "# Convert 'Date' column to datetime format and sort data\n",
        "df['Date'] = pd.to_datetime(df['Date'], format='%d-%b-%y')\n",
        "df.set_index('Date', inplace=True)\n",
        "df.sort_index(inplace=True)"
      ],
      "metadata": {
        "id": "JJkgo5rJyf9s"
      },
      "execution_count": null,
      "outputs": []
    },
    {
      "cell_type": "code",
      "source": [
        "# Define pre and post intervention periods\n",
        "pre_period = [df.index[0], '2014-06-30']  # Example pre-period\n",
        "post_period = ['2014-07-01', df.index[-1]]  # Example post-period, e.g., after OPEC decision in 2014"
      ],
      "metadata": {
        "id": "TiS1C10XyhlM"
      },
      "execution_count": null,
      "outputs": []
    },
    {
      "cell_type": "code",
      "source": [
        "# Causal impact analysis\n",
        "ci_data = pd.DataFrame({'date': df.index, 'y': df['Price']})\n",
        "ci = CausalImpact(ci_data, pre_period, post_period)"
      ],
      "metadata": {
        "id": "lwbfgcFlyj-k"
      },
      "execution_count": null,
      "outputs": []
    },
    {
      "cell_type": "code",
      "source": [
        "# Plot results\n",
        "ci.plot()\n",
        "plt.show()"
      ],
      "metadata": {
        "id": "XgklBByXymx8"
      },
      "execution_count": null,
      "outputs": []
    },
    {
      "cell_type": "code",
      "source": [
        "# Print results summary\n",
        "print(ci.summary())\n",
        "print(ci.summary(output='report'))"
      ],
      "metadata": {
        "id": "joUDYYtOyo0k"
      },
      "execution_count": null,
      "outputs": []
    }
  ]
}