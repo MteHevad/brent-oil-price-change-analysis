{
  "nbformat": 4,
  "nbformat_minor": 0,
  "metadata": {
    "colab": {
      "provenance": []
    },
    "kernelspec": {
      "name": "python3",
      "display_name": "Python 3"
    },
    "language_info": {
      "name": "python"
    }
  },
  "cells": [
    {
      "cell_type": "code",
      "source": [
        "# Import libraries\n",
        "import pandas as pd\n",
        "from causalimpact import CausalImpact\n",
        "import matplotlib.pyplot as plt"
      ],
      "metadata": {
        "id": "ULTT9Y68vsA0"
      },
      "execution_count": null,
      "outputs": []
    },
    {
      "cell_type": "code",
      "source": [
        "# Load data\n",
        "data_path = '/content/BrentOilPrices.csv'\n",
        "df = pd.read_csv(data_path)"
      ],
      "metadata": {
        "id": "vkWoMMxZvyFm"
      },
      "execution_count": null,
      "outputs": []
    },
    {
      "cell_type": "code",
      "source": [
        "# Convert 'Date' column to datetime format\n",
        "df['Date'] = pd.to_datetime(df['Date'], format='%d-%b-%y')\n",
        "df.sort_values('Date', inplace=True)"
      ],
      "metadata": {
        "id": "jcc-x7Zaxl6E"
      },
      "execution_count": null,
      "outputs": []
    },
    {
      "cell_type": "code",
      "source": [
        "# Define significant events with dates (example entries)\n",
        "events = {\n",
        "    '2001-09-11': '9/11 Attacks',\n",
        "    '2008-09-15': 'Lehman Brothers Bankruptcy',\n",
        "    '2014-11-27': 'OPEC Decision Not to Cut Production',\n",
        "    '2020-03-09': 'COVID-19 Outbreak Economic Impact',\n",
        "}"
      ],
      "metadata": {
        "id": "ndA7Sl2txoPz"
      },
      "execution_count": null,
      "outputs": []
    },
    {
      "cell_type": "code",
      "source": [
        "# Add event labels to data\n",
        "df['Event'] = df['Date'].apply(lambda x: events.get(x.strftime('%Y-%m-%d'), 'No Event'))"
      ],
      "metadata": {
        "id": "Vtm-bMeuxsTs"
      },
      "execution_count": null,
      "outputs": []
    },
    {
      "cell_type": "code",
      "source": [
        "# Filter data for event dates\n",
        "event_dates = df[df['Event'] != 'No Event']"
      ],
      "metadata": {
        "id": "Qh9VdUAZxuNs"
      },
      "execution_count": null,
      "outputs": []
    },
    {
      "cell_type": "code",
      "source": [
        "# Plot data with event markers\n",
        "plt.figure(figsize=(14, 7))\n",
        "plt.plot(df['Date'], df['Price'], label='Brent Oil Price')\n",
        "for date, event in event_dates[['Date', 'Event']].values:\n",
        "    plt.axvline(date, color='red', linestyle='--', alpha=0.7)\n",
        "    plt.text(date, df[df['Date'] == date]['Price'].values[0], event, rotation=45)\n",
        "\n",
        "plt.title('Brent Oil Prices with Significant Events')\n",
        "plt.xlabel('Date')\n",
        "plt.ylabel('Price (USD per Barrel)')\n",
        "plt.legend()\n",
        "plt.show()"
      ],
      "metadata": {
        "id": "PFp6DcC8xwZs"
      },
      "execution_count": null,
      "outputs": []
    }
  ]
}