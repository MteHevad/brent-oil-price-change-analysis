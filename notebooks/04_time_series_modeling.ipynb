{
  "nbformat": 4,
  "nbformat_minor": 0,
  "metadata": {
    "colab": {
      "provenance": []
    },
    "kernelspec": {
      "name": "python3",
      "display_name": "Python 3"
    },
    "language_info": {
      "name": "python"
    }
  },
  "cells": [
    {
      "cell_type": "code",
      "execution_count": null,
      "metadata": {
        "id": "Gs9mPxn9gGQD"
      },
      "outputs": [],
      "source": [
        "# Import libraries\n",
        "import pandas as pd\n",
        "import statsmodels.api as sm\n",
        "from statsmodels.tsa.arima.model import ARIMA\n",
        "import matplotlib.pyplot as plt"
      ]
    },
    {
      "cell_type": "code",
      "source": [
        "# Load data\n",
        "file_path = '/content/BrentOilPrices.csv'\n",
        "data = pd.read_csv(file_path)\n",
        "data['Date'] = pd.to_datetime(data['Date'], format='%d-%b-%y')\n",
        "data.set_index('Date', inplace=True)"
      ],
      "metadata": {
        "id": "0sI9dxZ-vdBo"
      },
      "execution_count": null,
      "outputs": []
    },
    {
      "cell_type": "code",
      "source": [
        "# ARIMA modeling\n",
        "model = ARIMA(data['Price'], order=(5, 1, 0))\n",
        "model_fit = model.fit()"
      ],
      "metadata": {
        "id": "uaEgm8NvvfAb"
      },
      "execution_count": null,
      "outputs": []
    },
    {
      "cell_type": "code",
      "source": [
        "# Forecasting\n",
        "forecast = model_fit.forecast(steps=100)\n",
        "forecast_index = pd.date_range(data.index[-1], periods=100, freq='D')"
      ],
      "metadata": {
        "id": "NeoPvpHUvhO7"
      },
      "execution_count": null,
      "outputs": []
    },
    {
      "cell_type": "code",
      "source": [
        "# Plotting\n",
        "plt.figure(figsize=(14, 7))\n",
        "plt.plot(data.index, data['Price'], label='Actual Prices')\n",
        "plt.plot(forecast_index, forecast, color='red', linestyle='--', label='Forecast')\n",
        "plt.xlabel('Date')\n",
        "plt.ylabel('Price (USD)')\n",
        "plt.title('Brent Oil Price Prediction using ARIMA')\n",
        "plt.legend()\n",
        "plt.show()"
      ],
      "metadata": {
        "id": "9dDV4pE4vk4b"
      },
      "execution_count": null,
      "outputs": []
    }
  ]
}