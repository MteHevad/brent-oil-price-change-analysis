{
  "nbformat": 4,
  "nbformat_minor": 0,
  "metadata": {
    "colab": {
      "provenance": []
    },
    "kernelspec": {
      "name": "python3",
      "display_name": "Python 3"
    },
    "language_info": {
      "name": "python"
    }
  },
  "cells": [
    {
      "cell_type": "code",
      "source": [
        "# Import libraries\n",
        "import pymc3 as pm\n",
        "import numpy as np\n",
        "import pandas as pd\n",
        "import matplotlib.pyplot as plt"
      ],
      "metadata": {
        "id": "IcsLG5ZVvLCr"
      },
      "execution_count": null,
      "outputs": []
    },
    {
      "cell_type": "code",
      "source": [
        "# Load data\n",
        "file_path = '/content/BrentOilPrices.csv'\n",
        "data = pd.read_csv(file_path)\n",
        "data['Date'] = pd.to_datetime(data['Date'], format='%d-%b-%y')\n",
        "data.set_index('Date', inplace=True)"
      ],
      "metadata": {
        "id": "wIJO1B5yvLtD"
      },
      "execution_count": null,
      "outputs": []
    },
    {
      "cell_type": "code",
      "source": [
        "# Set up Bayesian change-point detection\n",
        "prices = data['Price'].values"
      ],
      "metadata": {
        "id": "sPme4ZjjvQb7"
      },
      "execution_count": null,
      "outputs": []
    },
    {
      "cell_type": "code",
      "source": [
        "# Model definition\n",
        "with pm.Model() as model:\n",
        "    # Define change point\n",
        "    switchpoint = pm.DiscreteUniform('switchpoint', lower=0, upper=len(prices))\n",
        "\n",
        "    # Before and after change point\n",
        "    mean_before = pm.Normal('mean_before', mu=np.mean(prices[:len(prices)//2]), sigma=10)\n",
        "    mean_after = pm.Normal('mean_after', mu=np.mean(prices[len(prices)//2:]), sigma=10)\n",
        "\n",
        "    # Define price model\n",
        "    price = pm.Deterministic('price', pm.math.switch(switchpoint >= np.arange(len(prices)), mean_before, mean_after))\n",
        "    observed = pm.Normal('observed', mu=price, sigma=5, observed=prices)\n",
        "\n",
        "    # Sampling\n",
        "    trace = pm.sample(1000, tune=500, cores=2)"
      ],
      "metadata": {
        "id": "uzmKHvk2vSOa"
      },
      "execution_count": null,
      "outputs": []
    },
    {
      "cell_type": "code",
      "source": [
        "# Plot results\n",
        "plt.figure(figsize=(14, 7))\n",
        "plt.plot(data.index, prices, label='Brent Oil Price', color='blue')\n",
        "plt.axvline(data.index[trace['switchpoint'].mean()], color='red', linestyle='--', label='Detected Change Point')\n",
        "plt.xlabel('Date')\n",
        "plt.ylabel('Price (USD)')\n",
        "plt.title('Brent Oil Price with Detected Change Point')\n",
        "plt.legend()\n",
        "plt.show()"
      ],
      "metadata": {
        "id": "MP5FjsFhvUnD"
      },
      "execution_count": null,
      "outputs": []
    }
  ]
}