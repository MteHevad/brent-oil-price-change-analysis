{
  "nbformat": 4,
  "nbformat_minor": 0,
  "metadata": {
    "colab": {
      "provenance": []
    },
    "kernelspec": {
      "name": "python3",
      "display_name": "Python 3"
    },
    "language_info": {
      "name": "python"
    }
  },
  "cells": [
    {
      "cell_type": "code",
      "execution_count": null,
      "metadata": {
        "id": "Gs9mPxn9gGQD"
      },
      "outputs": [],
      "source": [
        "# Import libraries\n",
        "import pandas as pd\n",
        "import matplotlib.pyplot as plt\n",
        "import seaborn as sns"
      ]
    },
    {
      "cell_type": "code",
      "source": [
        "# Load dataset\n",
        "file_path = '/content/BrentOilPrices.csv'  # Update path for your dataset location in Google Colab\n",
        "data = pd.read_csv(file_path)"
      ],
      "metadata": {
        "id": "SwWBGH5Dugkk"
      },
      "execution_count": null,
      "outputs": []
    },
    {
      "cell_type": "code",
      "source": [
        "# Data overview\n",
        "print(\"Data Info:\")\n",
        "print(data.info())\n",
        "print(\"\\nData Description:\")\n",
        "print(data.describe())"
      ],
      "metadata": {
        "id": "oOOVwFE-ui7s"
      },
      "execution_count": null,
      "outputs": []
    },
    {
      "cell_type": "code",
      "source": [
        "# Convert 'Date' column to datetime format\n",
        "data['Date'] = pd.to_datetime(data['Date'], format='%d-%b-%y')\n",
        "data.sort_values('Date', inplace=True)"
      ],
      "metadata": {
        "id": "k_KFuqR6ulS8"
      },
      "execution_count": null,
      "outputs": []
    },
    {
      "cell_type": "code",
      "source": [
        "# Basic statistics\n",
        "print(\"\\nPrice Statistics:\")\n",
        "print(f\"Mean: {data['Price'].mean()}\")\n",
        "print(f\"Median: {data['Price'].median()}\")\n",
        "print(f\"Std Dev: {data['Price'].std()}\")"
      ],
      "metadata": {
        "id": "Cn0HZ9bxunzm"
      },
      "execution_count": null,
      "outputs": []
    },
    {
      "cell_type": "code",
      "source": [
        "# Plotting price trends\n",
        "plt.figure(figsize=(14, 7))\n",
        "plt.plot(data['Date'], data['Price'], color='blue', label='Brent Oil Price')\n",
        "plt.xlabel('Date')\n",
        "plt.ylabel('Price (USD)')\n",
        "plt.title('Historical Brent Oil Prices')\n",
        "plt.legend()\n",
        "plt.show()"
      ],
      "metadata": {
        "id": "ZE5MYTgLuqXT"
      },
      "execution_count": null,
      "outputs": []
    }
  ]
}