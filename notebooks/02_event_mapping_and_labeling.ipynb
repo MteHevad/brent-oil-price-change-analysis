{
  "nbformat": 4,
  "nbformat_minor": 0,
  "metadata": {
    "colab": {
      "provenance": []
    },
    "kernelspec": {
      "name": "python3",
      "display_name": "Python 3"
    },
    "language_info": {
      "name": "python"
    }
  },
  "cells": [
    {
      "cell_type": "code",
      "execution_count": null,
      "metadata": {
        "id": "Gs9mPxn9gGQD"
      },
      "outputs": [],
      "source": [
        "# Import libraries\n",
        "import pandas as pd\n",
        "from datetime import datetime"
      ]
    },
    {
      "cell_type": "code",
      "source": [
        "# Load data\n",
        "file_path = '/content/BrentOilPrices.csv'\n",
        "data = pd.read_csv(file_path)\n",
        "data['Date'] = pd.to_datetime(data['Date'], format='%d-%b-%y')\n",
        "data.set_index('Date', inplace=True)"
      ],
      "metadata": {
        "id": "keCigdBguyqD"
      },
      "execution_count": null,
      "outputs": []
    },
    {
      "cell_type": "code",
      "source": [
        "# Event dictionary (replace with actual events and dates)\n",
        "events = {\n",
        "    '2020-03-09': 'Oil price crash due to COVID-19',\n",
        "    '2016-11-30': 'OPEC production cut agreement',\n",
        "    '2008-09-15': 'Global financial crisis',\n",
        "    # Add more events as needed\n",
        "}"
      ],
      "metadata": {
        "id": "lH324dcju05i"
      },
      "execution_count": null,
      "outputs": []
    },
    {
      "cell_type": "code",
      "source": [
        "# Map events to data\n",
        "data['Event'] = data.index.map(lambda date: events.get(date.strftime('%Y-%m-%d'), 'No Event'))"
      ],
      "metadata": {
        "id": "-TRTK4W1u2r8"
      },
      "execution_count": null,
      "outputs": []
    },
    {
      "cell_type": "code",
      "source": [
        "# Filter for dates with events\n",
        "events_data = data[data['Event'] != 'No Event']\n",
        "print(\"Event Data Points:\")\n",
        "print(events_data[['Price', 'Event']])"
      ],
      "metadata": {
        "id": "UCI3LPkFu5Vf"
      },
      "execution_count": null,
      "outputs": []
    },
    {
      "cell_type": "code",
      "source": [
        "# Visualize with event markers\n",
        "plt.figure(figsize=(14, 7))\n",
        "plt.plot(data.index, data['Price'], label='Brent Oil Price', color='blue')\n",
        "for date, event in events.items():\n",
        "    plt.axvline(pd.to_datetime(date), color='red', linestyle='--', linewidth=0.8)\n",
        "    plt.text(pd.to_datetime(date), max(data['Price']), event, rotation=90, fontsize=9, color='red')\n",
        "plt.xlabel('Date')\n",
        "plt.ylabel('Price (USD)')\n",
        "plt.title('Brent Oil Prices with Key Events')\n",
        "plt.legend()\n",
        "plt.show()"
      ],
      "metadata": {
        "id": "hUxa28T-u79t"
      },
      "execution_count": null,
      "outputs": []
    }
  ]
}